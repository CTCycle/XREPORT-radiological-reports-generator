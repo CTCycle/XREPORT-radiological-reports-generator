{
 "cells": [
  {
   "cell_type": "code",
   "execution_count": null,
   "metadata": {},
   "outputs": [],
   "source": [
    "# [SET KERAS BACKEND]\n",
    "import os \n",
    "os.environ[\"KERAS_BACKEND\"] = \"torch\"\n",
    "\n",
    "# [IMPORT LIBRARIES]\n",
    "import pandas as pd\n",
    "\n",
    "# set warnings\n",
    "import warnings\n",
    "warnings.simplefilter(action='ignore', category=Warning)\n",
    "\n",
    "# import modules and classes\n",
    "from XREPORT.commons.utils.process.tokenizers import TokenWizard\n",
    "from XREPORT.commons.utils.process.splitting import TrainValidationSplit\n",
    "from XREPORT.commons.utils.dataloader.tensordata import TensorDatasetBuilder\n",
    "from XREPORT.commons.utils.dataloader.serializer import DataSerializer, ModelSerializer\n",
    "from XREPORT.commons.utils.validation.reports import evaluation_report\n",
    "from XREPORT.commons.constants import CONFIG, DATA_PATH\n",
    "from XREPORT.commons.logger import logger"
   ]
  },
  {
   "cell_type": "markdown",
   "metadata": {},
   "source": [
    "# Load data and model"
   ]
  },
  {
   "cell_type": "code",
   "execution_count": null,
   "metadata": {},
   "outputs": [],
   "source": [
    "# selected and load the pretrained model, then print the summary \n",
    "modelserializer = ModelSerializer()         \n",
    "model, configuration, history, checkpoint_path = modelserializer.select_and_load_checkpoint()\n",
    "model.summary(expand_nested=True)   \n",
    "\n",
    "# load data from csv, add paths to images \n",
    "dataserializer = DataSerializer(configuration)\n",
    "processed_data, metadata = dataserializer.load_data_from_checkpoint(checkpoint_path)\n",
    "\n",
    "processed_data = dataserializer.get_images_path_from_dataset(processed_data)\n",
    "vocabulary_size = metadata['vocabulary_size']\n",
    "\n",
    "# initialize the TensorDataSet class with the generator instances\n",
    "# create the tf.datasets using the previously initialized generators\n",
    "splitter = TrainValidationSplit(configuration, processed_data)     \n",
    "train_data, validation_data = splitter.split_train_and_validation()      "
   ]
  },
  {
   "cell_type": "markdown",
   "metadata": {},
   "source": [
    "## Create generator and datasets"
   ]
  },
  {
   "cell_type": "code",
   "execution_count": null,
   "metadata": {},
   "outputs": [],
   "source": [
    "# get tokenizers and its info\n",
    "tokenization = TokenWizard(configuration)    \n",
    "tokenizer = tokenization.tokenizer\n",
    "\n",
    "# initialize the TensorDataSet class with the generator instances\n",
    "# create the tf.datasets using the previously initialized generators    \n",
    "builder = TensorDatasetBuilder(configuration)  \n",
    "train_dataset, validation_dataset = builder.build_model_dataloader(train_data, validation_data, configuration)"
   ]
  },
  {
   "cell_type": "markdown",
   "metadata": {},
   "source": [
    "# Model evaluation\n",
    "\n",
    "### Evaluation of loss and metrics"
   ]
  },
  {
   "cell_type": "code",
   "execution_count": null,
   "metadata": {},
   "outputs": [],
   "source": [
    "evaluation_report(model, train_dataset, validation_dataset)  "
   ]
  }
 ],
 "metadata": {
  "kernelspec": {
   "display_name": "Aquarius",
   "language": "python",
   "name": "python3"
  },
  "language_info": {
   "codemirror_mode": {
    "name": "ipython",
    "version": 3
   },
   "file_extension": ".py",
   "mimetype": "text/x-python",
   "name": "python",
   "nbconvert_exporter": "python",
   "pygments_lexer": "ipython3",
   "version": "3.11.0"
  }
 },
 "nbformat": 4,
 "nbformat_minor": 2
}
