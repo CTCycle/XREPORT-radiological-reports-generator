{
 "cells": [
  {
   "cell_type": "code",
   "execution_count": null,
   "metadata": {},
   "outputs": [],
   "source": [
    "import os\n",
    "import pandas as pd\n",
    "\n",
    "# set warnings\n",
    "import warnings\n",
    "warnings.simplefilter(action='ignore', category=Warning)\n",
    "\n",
    "# import modules and classes\n",
    "from XREPORT.commons.utils.preprocessing.tokenizers import BERTokenizer\n",
    "from XREPORT.commons.utils.dataloader.generators import build_tensor_dataset\n",
    "from XREPORT.commons.utils.dataloader.serializer import ModelSerializer\n",
    "from XREPORT.commons.utils.validation import ModelValidation\n",
    "from XREPORT.commons.constants import CONFIG, DATA_PATH"
   ]
  },
  {
   "cell_type": "markdown",
   "metadata": {},
   "source": [
    "# Load data and model"
   ]
  },
  {
   "cell_type": "code",
   "execution_count": null,
   "metadata": {},
   "outputs": [],
   "source": [
    "# selected and load the pretrained model, then print the summary \n",
    "modelserializer = ModelSerializer()         \n",
    "model, parameters = modelserializer.load_pretrained_model()\n",
    "model_folder = modelserializer.loaded_model_folder\n",
    "model.summary(expand_nested=True)   \n",
    "\n",
    "# load data from csv, add paths to images \n",
    "train_file_path = os.path.join(DATA_PATH, 'XREP_train.csv') \n",
    "val_file_path = os.path.join(DATA_PATH, 'XREP_validation.csv')\n",
    "train_data = pd.read_csv(train_file_path, encoding='utf-8', sep=';', low_memory=False)\n",
    "validation_data = pd.read_csv(val_file_path, encoding='utf-8', sep=';', low_memory=False)"
   ]
  },
  {
   "cell_type": "markdown",
   "metadata": {},
   "source": [
    "## Create generator and datasets"
   ]
  },
  {
   "cell_type": "code",
   "execution_count": null,
   "metadata": {},
   "outputs": [],
   "source": [
    "# get tokenizers and its info\n",
    "tokenization = BERTokenizer(train_data, validation_data)    \n",
    "tokenizer = tokenization.tokenizer\n",
    "\n",
    "# initialize the TensorDataSet class with the generator instances\n",
    "# create the tf.datasets using the previously initialized generators    \n",
    "train_dataset = build_tensor_dataset(train_data)\n",
    "validation_dataset = build_tensor_dataset(validation_data)\n",
    "vocab_size = len(tokenizer.vocab) + 1"
   ]
  },
  {
   "cell_type": "markdown",
   "metadata": {},
   "source": [
    "# Model evaluation\n",
    "\n",
    "### 2.1 Evaluation of loss and metrics"
   ]
  },
  {
   "cell_type": "code",
   "execution_count": null,
   "metadata": {},
   "outputs": [],
   "source": [
    "validator = ModelValidation(model)\n",
    "\n",
    "# create subfolder for evaluation data\n",
    "model_eval_path = os.path.join(model_folder, 'evaluation') \n",
    "os.mkdir(model_eval_path) if not os.path.exists(model_eval_path) else None\n",
    "\n",
    "# evaluate the model on both the train and test dataset\n",
    "eval_batch_size = CONFIG[\"evaluation\"][\"BATCH_SIZE\"]\n",
    "train_eval = model.evaluate(train_dataset, batch_size=eval_batch_size, verbose=1)\n",
    "validation_eval = model.evaluate(validation_dataset, batch_size=eval_batch_size, verbose=1)\n",
    "\n",
    "print('\\nTrain dataset:')\n",
    "print(f'Loss: {train_eval[0]}')    \n",
    "print(f'Metric: {train_eval[1]}')  \n",
    "print('\\nTest dataset:')\n",
    "print(f'Loss: {validation_eval[0]}')    \n",
    "print(f'Metric: {validation_eval[1]}')    "
   ]
  }
 ],
 "metadata": {
  "kernelspec": {
   "display_name": "Aquarius",
   "language": "python",
   "name": "python3"
  },
  "language_info": {
   "codemirror_mode": {
    "name": "ipython",
    "version": 3
   },
   "file_extension": ".py",
   "mimetype": "text/x-python",
   "name": "python",
   "nbconvert_exporter": "python",
   "pygments_lexer": "ipython3",
   "version": "3.10.14"
  }
 },
 "nbformat": 4,
 "nbformat_minor": 2
}
