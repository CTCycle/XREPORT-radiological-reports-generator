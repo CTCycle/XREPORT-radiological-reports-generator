{
 "cells": [
  {
   "cell_type": "code",
   "execution_count": null,
   "metadata": {},
   "outputs": [],
   "source": [
    "# [SET KERAS BACKEND]\n",
    "import os \n",
    "os.environ[\"KERAS_BACKEND\"] = \"torch\"\n",
    "os.environ['TF_CPP_MIN_LOG_LEVEL'] = '3'\n",
    "\n",
    "# [IMPORT LIBRARIES]\n",
    "import pandas as pd\n",
    "\n",
    "# set warnings\n",
    "import warnings\n",
    "warnings.simplefilter(action='ignore', category=Warning)\n",
    "\n",
    "# import modules and classes\n",
    "from XREPORT.commons.utils.process.tokenizers import TokenWizard\n",
    "from XREPORT.commons.utils.dataloader.generators import training_data_pipeline\n",
    "from XREPORT.commons.utils.dataloader.serializer import DataSerializer, ModelSerializer\n",
    "from XREPORT.commons.utils.validation.reports import evaluation_report\n",
    "from XREPORT.commons.constants import CONFIG, DATA_PATH\n",
    "from XREPORT.commons.logger import logger"
   ]
  },
  {
   "cell_type": "markdown",
   "metadata": {},
   "source": [
    "# Load data and model"
   ]
  },
  {
   "cell_type": "code",
   "execution_count": null,
   "metadata": {},
   "outputs": [],
   "source": [
    "# selected and load the pretrained model, then print the summary \n",
    "modelserializer = ModelSerializer()         \n",
    "model, config, history = modelserializer.load_pretrained_model()\n",
    "model_folder = modelserializer.loaded_model_folder\n",
    "model.summary(expand_nested=True)   \n",
    "\n",
    "# load data from csv, add paths to images \n",
    "dataserializer = DataSerializer()\n",
    "train_data, validation_data, metadata = dataserializer.load_preprocessed_data()   "
   ]
  },
  {
   "cell_type": "markdown",
   "metadata": {},
   "source": [
    "## Create generator and datasets"
   ]
  },
  {
   "cell_type": "code",
   "execution_count": null,
   "metadata": {},
   "outputs": [],
   "source": [
    "# get tokenizers and its info\n",
    "tokenization = TokenWizard(config)    \n",
    "tokenizer = tokenization.tokenizer\n",
    "\n",
    "# initialize the TensorDataSet class with the generator instances\n",
    "# create the tf.datasets using the previously initialized generators    \n",
    "train_dataset, validation_dataset = training_data_pipeline(train_data, validation_data)\n",
    "vocabulary_size = len(tokenizer.vocab) + 1"
   ]
  },
  {
   "cell_type": "markdown",
   "metadata": {},
   "source": [
    "# Model evaluation\n",
    "\n",
    "### 2.1 Evaluation of loss and metrics"
   ]
  },
  {
   "cell_type": "code",
   "execution_count": null,
   "metadata": {},
   "outputs": [],
   "source": [
    "evaluation_report(model, train_dataset, validation_dataset)  "
   ]
  }
 ],
 "metadata": {
  "kernelspec": {
   "display_name": "Aquarius",
   "language": "python",
   "name": "python3"
  },
  "language_info": {
   "codemirror_mode": {
    "name": "ipython",
    "version": 3
   },
   "file_extension": ".py",
   "mimetype": "text/x-python",
   "name": "python",
   "nbconvert_exporter": "python",
   "pygments_lexer": "ipython3",
   "version": "3.11.0"
  }
 },
 "nbformat": 4,
 "nbformat_minor": 2
}
