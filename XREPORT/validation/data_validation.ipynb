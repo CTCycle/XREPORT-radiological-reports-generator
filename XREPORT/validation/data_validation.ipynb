{
 "cells": [
  {
   "cell_type": "code",
   "execution_count": null,
   "metadata": {},
   "outputs": [],
   "source": [
    "# [SET KERAS BACKEND]\n",
    "import os \n",
    "os.environ[\"KERAS_BACKEND\"] = \"torch\"\n",
    "\n",
    "# [IMPORT LIBRARIES]\n",
    "import pandas as pd\n",
    "\n",
    "# setting warnings\n",
    "import warnings\n",
    "warnings.simplefilter(action='ignore', category=Warning)\n",
    "\n",
    "# import modules and components\n",
    "from XREPORT.commons.utils.dataloader.serializer import get_images_from_dataset, DataSerializer\n",
    "from XREPORT.commons.utils.validation import DataValidation\n",
    "from XREPORT.commons.utils.preprocessing.splitting import DatasetSplit\n",
    "from XREPORT.commons.constants import CONFIG, IMG_DATA_PATH, DATA_PATH, RESULTS_PATH\n",
    "from XREPORT.commons.logger import logger"
   ]
  },
  {
   "cell_type": "markdown",
   "metadata": {},
   "source": [
    "## Load data"
   ]
  },
  {
   "cell_type": "code",
   "execution_count": null,
   "metadata": {},
   "outputs": [],
   "source": [
    "# load data from csv, add paths to images \n",
    "sample_size = CONFIG[\"evaluation\"][\"SAMPLE_SIZE\"] \n",
    "file_loc = os.path.join(DATA_PATH, 'XREP_dataset.csv') \n",
    "dataset = pd.read_csv(file_loc, encoding = 'utf-8', sep =';', low_memory=False)\n",
    "dataset = get_images_from_dataset(IMG_DATA_PATH, dataset, sample_size=sample_size)\n",
    "\n",
    "splitter = DatasetSplit(dataset)     \n",
    "train_data, validation_data = splitter.split_data() \n",
    "\n",
    "logger.info(f'Number of train samples: {len(train_data)}')\n",
    "logger.info(f'Number of validation samples: {len(validation_data)}')"
   ]
  },
  {
   "cell_type": "markdown",
   "metadata": {},
   "source": [
    "# Data validation"
   ]
  },
  {
   "cell_type": "markdown",
   "metadata": {},
   "source": [
    "## 1. Analysis of XREP dataset\n",
    "\n",
    "..."
   ]
  },
  {
   "cell_type": "markdown",
   "metadata": {},
   "source": [
    "### 1.1 Text analysis"
   ]
  },
  {
   "cell_type": "code",
   "execution_count": null,
   "metadata": {},
   "outputs": [],
   "source": [
    "total_words_list = [word for text in dataset['text'].to_list() for word in text.split()]\n",
    "train_words_list = [word for text in train_data['text'].to_list() for word in text.split()]\n",
    "validation_words_list = [word for text in validation_data['text'].to_list() for word in text.split()]\n",
    "\n",
    "logger.info(f'Number of words in the entire dataset:        {len(total_words_list)}')\n",
    "logger.info(f'Number of unique words in the entire dataset: {len(set(total_words_list))}\\n')\n",
    "logger.info(f'Number of words in the training dataset:        {len(train_words_list)}')\n",
    "logger.info(f'Number of unique words in the training dataset: {len(set(train_words_list))}\\n')\n",
    "logger.info(f'Number of words in the validation dataset:        {len(validation_words_list)}')\n",
    "logger.info(f'Number of unique words in the validation dataset: {len(set(validation_words_list))}\\n')"
   ]
  },
  {
   "cell_type": "markdown",
   "metadata": {},
   "source": [
    "## 2. Comparison of train and test datasets\n",
    "\n",
    "Analyze the XREPORT images dataset with different metrics. Compare the train and test datasets to explore possible differences between the two"
   ]
  },
  {
   "cell_type": "markdown",
   "metadata": {},
   "source": [
    "### 2.1 Pixel intensity histogram\n",
    "\n",
    "Evaluate the average pixel intensity of images from both the train and test datasets"
   ]
  },
  {
   "cell_type": "code",
   "execution_count": null,
   "metadata": {},
   "outputs": [],
   "source": [
    "img_shape = CONFIG[\"model\"][\"IMG_SHAPE\"]\n",
    "logger.info(f'Loading pictures from train and test dataset. Current picture shape is {img_shape}')\n",
    "\n",
    "# load train and validation images as numpy arrays\n",
    "serializer = DataSerializer()\n",
    "validator = DataValidation()\n",
    "train_images = [serializer.load_image(pt, as_tensor=False) for pt in train_data['path'].to_list()]\n",
    "validation_images = [serializer.load_image(pt, as_tensor=False) for pt in validation_data['path'].to_list()]\n",
    "\n",
    "# validate pixel intensity histograms for both datasets\n",
    "images_dictionary = {'Train' : train_images, 'Validation' : validation_images}\n",
    "validator.pixel_intensity_histograms(images_dictionary, RESULTS_PATH)"
   ]
  }
 ],
 "metadata": {
  "kernelspec": {
   "display_name": "Aquarius",
   "language": "python",
   "name": "python3"
  },
  "language_info": {
   "codemirror_mode": {
    "name": "ipython",
    "version": 3
   },
   "file_extension": ".py",
   "mimetype": "text/x-python",
   "name": "python",
   "nbconvert_exporter": "python",
   "pygments_lexer": "ipython3",
   "version": "3.11.0"
  }
 },
 "nbformat": 4,
 "nbformat_minor": 2
}
