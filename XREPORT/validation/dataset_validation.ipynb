{
 "cells": [
  {
   "cell_type": "code",
   "execution_count": 1,
   "metadata": {},
   "outputs": [],
   "source": [
    "# [IMPORT LIBRARIES]\n",
    "import pandas as pd\n",
    "\n",
    "# setting warnings\n",
    "import warnings\n",
    "warnings.simplefilter(action='ignore', category=Warning)\n",
    "\n",
    "# import modules and components\n",
    "from XREPORT.commons.utils.dataloader.serializer import get_images_from_dataset, DataSerializer\n",
    "from XREPORT.commons.utils.validation.images import ImageDatasetValidation\n",
    "from XREPORT.commons.utils.validation.textual import TextAnalysis\n",
    "from XREPORT.commons.constants import CONFIG, IMG_DATA_PATH, DATA_PATH\n",
    "from XREPORT.commons.logger import logger"
   ]
  },
  {
   "cell_type": "markdown",
   "metadata": {},
   "source": [
    "You can select ..."
   ]
  },
  {
   "cell_type": "code",
   "execution_count": 2,
   "metadata": {},
   "outputs": [],
   "source": [
    "data_fraction = 1.0"
   ]
  },
  {
   "cell_type": "markdown",
   "metadata": {},
   "source": [
    "## Load dataset\n",
    "\n",
    "---"
   ]
  },
  {
   "cell_type": "code",
   "execution_count": null,
   "metadata": {},
   "outputs": [],
   "source": [
    "dataserializer = DataSerializer(CONFIG)\n",
    "dataset = get_images_from_dataset(IMG_DATA_PATH, data_fraction)\n",
    "print(f'Number of reports and related images: {dataset.shape[0]}')\n"
   ]
  },
  {
   "cell_type": "markdown",
   "metadata": {},
   "source": [
    "# Data validation"
   ]
  },
  {
   "cell_type": "markdown",
   "metadata": {},
   "source": [
    "## 1. Analysis of XREPORT dataset\n",
    "\n",
    "..."
   ]
  },
  {
   "cell_type": "markdown",
   "metadata": {},
   "source": [
    "### 1.1 Text analysis"
   ]
  },
  {
   "cell_type": "code",
   "execution_count": null,
   "metadata": {},
   "outputs": [],
   "source": [
    "analyzer = TextAnalysis()\n",
    "word_counts = analyzer.words_counter(train_data, validation_data)"
   ]
  },
  {
   "cell_type": "markdown",
   "metadata": {},
   "source": [
    "## 2. Comparison of train and test datasets\n",
    "\n",
    "Analyze the XREPORT images dataset with different metrics. Compare the train and test datasets to explore possible differences between the two"
   ]
  },
  {
   "cell_type": "markdown",
   "metadata": {},
   "source": [
    "### 2.1 Pixel intensity histogram\n",
    "\n",
    "Evaluate the average pixel intensity of images from both the train and test datasets"
   ]
  },
  {
   "cell_type": "code",
   "execution_count": null,
   "metadata": {},
   "outputs": [],
   "source": [
    "# load train and validation images as numpy arrays\n",
    "validator = ImageDatasetValidation(train_data, validation_data)\n",
    "validator.pixel_intensity_histograms()"
   ]
  }
 ],
 "metadata": {
  "kernelspec": {
   "display_name": "openkeras",
   "language": "python",
   "name": "python3"
  },
  "language_info": {
   "codemirror_mode": {
    "name": "ipython",
    "version": 3
   },
   "file_extension": ".py",
   "mimetype": "text/x-python",
   "name": "python",
   "nbconvert_exporter": "python",
   "pygments_lexer": "ipython3",
   "version": "3.11.11"
  }
 },
 "nbformat": 4,
 "nbformat_minor": 2
}
